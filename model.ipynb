{
 "cells": [
  {
   "cell_type": "code",
   "execution_count": 22,
   "metadata": {},
   "outputs": [
    {
     "data": {
      "text/plain": [
       "(1460, 105)"
      ]
     },
     "execution_count": 22,
     "metadata": {},
     "output_type": "execute_result"
    }
   ],
   "source": [
    "from generalConversion import createDataFromPath\n",
    "\n",
    "import os\n",
    "import sys\n",
    "from generalConversion import createDataFromPath\n",
    "\n",
    "\n",
    "#XGBoost\n",
    "import xgboost as xgb\n",
    "\n",
    "# Save the original standard output\n",
    "original_stdout = sys.stdout\n",
    "\n",
    "# Redirect standard output to a null device\n",
    "sys.stdout = open(os.devnull, 'w')\n",
    "\n",
    "# Call the function\n",
    "data, salePrice = createDataFromPath(\"train.csv\", True)\n",
    "data_create = createDataFromPath(\"test.csv\", False)\n",
    "\n",
    "# Restore the original standard output\n",
    "sys.stdout = original_stdout\n",
    "\n",
    "data.shape\n"
   ]
  },
  {
   "cell_type": "code",
   "execution_count": 23,
   "metadata": {},
   "outputs": [
    {
     "name": "stdout",
     "output_type": "stream",
     "text": [
      "Best max_depth:  9\n"
     ]
    }
   ],
   "source": [
    "data_train = data[:int(data.shape[0]*0.8)]\n",
    "data_test = data[int(data.shape[0]*0.8):]\n",
    "salePrice_train = salePrice[:int(data.shape[0]*0.8)]\n",
    "salePrice_test = salePrice[int(data.shape[0]*0.8):]\n",
    "\n",
    "#XGBoost\n",
    "dtrain = xgb.DMatrix(data_train, label=salePrice_train)\n",
    "dtest = xgb.DMatrix(data_test, label=salePrice_test)\n",
    "dcreate = xgb.DMatrix(data_create)\n",
    "\n",
    "# Define the list of max_depth values to try\n",
    "max_depths = np.arange(1, 10)\n",
    "\n",
    "# Initialize best_rmse and best_max_depth\n",
    "best_rmse = float(\"Inf\")\n",
    "best_max_depth = None\n",
    "\n",
    "# Loop over max_depths\n",
    "for max_depth in max_depths:\n",
    "    # Update the max_depth value in the parameter grid\n",
    "    param_grid = {'max_depth': max_depth, 'eta': 1, 'objective': 'reg:squarederror'}\n",
    "\n",
    "    # Perform cross-validation\n",
    "    cv_results = xgb.cv(param_grid, dtrain, num_boost_round=2, nfold=5, metrics='rmse', early_stopping_rounds=10)\n",
    "\n",
    "    # Get the mean RMSE of the last boosting round\n",
    "    mean_rmse = cv_results['test-rmse-mean'].iloc[-1]\n",
    "\n",
    "    # Update best_rmse and best_max_depth if this RMSE is lower\n",
    "    if mean_rmse < best_rmse:\n",
    "        best_rmse = mean_rmse\n",
    "        best_max_depth = max_depth\n",
    "\n",
    "# Print the best max_depth\n",
    "print('Best max_depth: ', best_max_depth)\n",
    "\n",
    "\n"
   ]
  },
  {
   "cell_type": "code",
   "execution_count": 25,
   "metadata": {},
   "outputs": [
    {
     "name": "stdout",
     "output_type": "stream",
     "text": [
      "Best num_round:  2\n"
     ]
    }
   ],
   "source": [
    "# Define the list of num_round values to try\n",
    "num_rounds = np.arange(1, 10)\n",
    "\n",
    "# Initialize best_rmse and best_num_round\n",
    "best_rmse = float(\"Inf\")\n",
    "best_num_round = None\n",
    "\n",
    "# Set the max_depth to the best value found previously\n",
    "param_grid = {'max_depth': best_max_depth, 'eta': 1, 'objective': 'reg:squarederror'}\n",
    "\n",
    "# Loop over num_rounds\n",
    "for num_round in num_rounds:\n",
    "    # Perform cross-validation\n",
    "    cv_results = xgb.cv(param_grid, dtrain, num_boost_round=num_round, nfold=5, metrics='rmse', early_stopping_rounds=10)\n",
    "\n",
    "    # Get the mean RMSE of the last boosting round\n",
    "    mean_rmse = cv_results['test-rmse-mean'].iloc[-1]\n",
    "\n",
    "    # Update best_rmse and best_num_round if this RMSE is lower\n",
    "    if mean_rmse < best_rmse:\n",
    "        best_rmse = mean_rmse\n",
    "        best_num_round = num_round\n",
    "\n",
    "# Print the best num_round\n",
    "print('Best num_round: ', best_num_round)\n"
   ]
  },
  {
   "cell_type": "code",
   "execution_count": 29,
   "metadata": {},
   "outputs": [
    {
     "name": "stdout",
     "output_type": "stream",
     "text": [
      "235000.0 192877.42\n",
      "0.1796114817867331\n"
     ]
    }
   ],
   "source": [
    "\n",
    "param = {'max_depth': best_max_depth, 'eta': 1, 'objective': 'reg:squarederror'}\n",
    "num_round = best_num_round\n",
    "bst = xgb.train(param, dtrain, num_round)\n",
    "# make prediction\n",
    "preds = bst.predict(dtest)\n",
    "\n",
    "print(salePrice_test[0], preds[0])\n",
    "\n",
    "#calculate error with RMSE\n",
    "from sklearn.metrics import mean_squared_error\n",
    "from math import sqrt\n",
    "import numpy as np\n",
    "\n",
    "rms = sqrt(mean_squared_error(np.log(salePrice_test), np.log(preds)))\n",
    "print(rms)"
   ]
  },
  {
   "cell_type": "code",
   "execution_count": 27,
   "metadata": {},
   "outputs": [],
   "source": [
    "#Create submission file\n",
    "preds_create = bst.predict(dcreate)\n",
    "import csv\n",
    "with open('submission.csv', 'w', newline='') as csvfile:\n",
    "    writer = csv.writer(csvfile, delimiter=',')\n",
    "    writer.writerow(['Id', 'SalePrice'])\n",
    "    for i in range(len(preds_create)):\n",
    "        writer.writerow([i+1461, preds_create[i]])\n",
    "\n"
   ]
  }
 ],
 "metadata": {
  "kernelspec": {
   "display_name": "Python 3",
   "language": "python",
   "name": "python3"
  },
  "language_info": {
   "codemirror_mode": {
    "name": "ipython",
    "version": 3
   },
   "file_extension": ".py",
   "mimetype": "text/x-python",
   "name": "python",
   "nbconvert_exporter": "python",
   "pygments_lexer": "ipython3",
   "version": "3.11.4"
  }
 },
 "nbformat": 4,
 "nbformat_minor": 2
}
