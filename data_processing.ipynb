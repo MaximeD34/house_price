{
 "cells": [
  {
   "cell_type": "code",
   "execution_count": 17,
   "metadata": {},
   "outputs": [],
   "source": [
    "import numpy as np"
   ]
  },
  {
   "cell_type": "code",
   "execution_count": 71,
   "metadata": {},
   "outputs": [],
   "source": [
    "def oneHotEncode(column, uniqueValues):\n",
    "    oneHotEncodedColumn = np.zeros((len(column), len(uniqueValues)))\n",
    "    for i in range(len(column)):\n",
    "        oneHotEncodedColumn[i][list(uniqueValues).index(column[i])] = 1\n",
    "    return oneHotEncodedColumn.astype(int)"
   ]
  },
  {
   "cell_type": "code",
   "execution_count": null,
   "metadata": {},
   "outputs": [],
   "source": [
    "#Id,MSSubClass,MSZoning,LotFrontage,LotArea,Street,Alley,LotShape,LandContour,Utilities,LotConfig,LandSlope,Neighborhood,Condition1,Condition2,BldgType,HouseStyle,OverallQual,OverallCond,YearBuilt,YearRemodAdd,RoofStyle,RoofMatl,Exterior1st,Exterior2nd,MasVnrType,MasVnrArea,ExterQual,ExterCond,Foundation,BsmtQual,BsmtCond,BsmtExposure,BsmtFinType1,BsmtFinSF1,BsmtFinType2,BsmtFinSF2,BsmtUnfSF,TotalBsmtSF,Heating,HeatingQC,CentralAir,Electrical,1stFlrSF,2ndFlrSF,LowQualFinSF,GrLivArea,BsmtFullBath,BsmtHalfBath,FullBath,HalfBath,BedroomAbvGr,KitchenAbvGr,KitchenQual,TotRmsAbvGrd,Functional,Fireplaces,FireplaceQu,GarageType,GarageYrBlt,GarageFinish,GarageCars,GarageArea,GarageQual,GarageCond,PavedDrive,WoodDeckSF,OpenPorchSF,EnclosedPorch,3SsnPorch,ScreenPorch,PoolArea,PoolQC,Fence,MiscFeature,MiscVal,MoSold,YrSold,SaleType,SaleCondition,SalePrice\n",
    "\n",
    "#==> we keep the following columns: + means we one hot encode it, = means we keep it as is\n",
    "#MSSubClass +, MSZoning =, LotFrontage =, Stree +, Alley +, LotShape +,\n",
    "#LandContour +, Utilities +, LotConfig +, LandSlope +, Neighborhood +,\n",
    "#Condition1 +, Condition2 +, BldgType +, HouseStyle +, OverallQual =,\n",
    "#OverallCond =, // YearBuilt // =, // YearRemodAdd // =, RoofStyle +, RoofMatl +, \n",
    "#Exterior1st +, Exterior2nd +, MasVnrType +, MasVnrArea =, ExterQual +,\n",
    "#ExterCond +, Foundation +, BsmtQual +, BsmtCond +, BsmtExposure +,\n",
    "#BsmtFinType1 +, BsmtFinSF1 =, BsmtFinType2 +, BsmtFinSF2 =, BsmtUnfSF =,\n",
    "#TotalBsmtSF =, Heating +, HeatingQC +, CentralAir +, Electrical +,\n",
    "#1stFlrSF =, 2ndFlrSF =, LowQualFinSF =, GrLivArea =, BsmtFullBath =,\n",
    "#BsmtHalfBath =, FullBath =, HalfBath =, Bedroom =, Kitchen =, // KitchenQual //,\n",
    "#TotRmsAbvGrd =, // Functional // +, Fireplaces =, // FireplaceQu // +, \n",
    "#GarageType +, // GarageYrBlt // =, // GarageFinish + //, GarageCars =, \n",
    "#GarageArea =, // GarageQual // +, // GarageCond // +, // PavedDrive // +,\n",
    "#WoodDeckSF =, OpenPorchSF =, EnclosedPorch =, 3SsnPorch =, ScreenPorch =,\n",
    "#PoolArea =, // PoolQC // +, // Fence // +, ?? MiscFeature ?? +, ?? MiscVal ?? =,\n",
    "#// MoSold //=, // YrSold // =, SaleType +, SaleCondition +"
   ]
  },
  {
   "cell_type": "code",
   "execution_count": 82,
   "metadata": {},
   "outputs": [
    {
     "name": "stdout",
     "output_type": "stream",
     "text": [
      "Id,MSSubClass,MSZoning,LotFrontage,LotArea,Street,Alley,LotShape,LandContour,Utilities,LotConfig,LandSlope,Neighborhood,Condition1,Condition2,BldgType,HouseStyle,OverallQual,OverallCond,YearBuilt,YearRemodAdd,RoofStyle,RoofMatl,Exterior1st,Exterior2nd,MasVnrType,MasVnrArea,ExterQual,ExterCond,Foundation,BsmtQual,BsmtCond,BsmtExposure,BsmtFinType1,BsmtFinSF1,BsmtFinType2,BsmtFinSF2,BsmtUnfSF,TotalBsmtSF,Heating,HeatingQC,CentralAir,Electrical,1stFlrSF,2ndFlrSF,LowQualFinSF,GrLivArea,BsmtFullBath,BsmtHalfBath,FullBath,HalfBath,BedroomAbvGr,KitchenAbvGr,KitchenQual,TotRmsAbvGrd,Functional,Fireplaces,FireplaceQu,GarageType,GarageYrBlt,GarageFinish,GarageCars,GarageArea,GarageQual,GarageCond,PavedDrive,WoodDeckSF,OpenPorchSF,EnclosedPorch,3SsnPorch,ScreenPorch,PoolArea,PoolQC,Fence,MiscFeature,MiscVal,MoSold,YrSold,SaleType,SaleCondition,SalePrice\n",
      "\n",
      "(1460, 81)\n"
     ]
    }
   ],
   "source": [
    "with open(\"train.csv\") as f:\n",
    "    lines = f.readlines()\n",
    "\n",
    "header = lines[0]\n",
    "lines = lines[1:]\n",
    "\n",
    "data = np.array([line.split(\",\") for line in lines])\n",
    "\n",
    "#increase print size\n",
    "np.set_printoptions(threshold=np.inf)\n",
    "\n",
    "print(header)\n",
    "print(data.shape)\n",
    "\n"
   ]
  },
  {
   "cell_type": "code",
   "execution_count": 73,
   "metadata": {},
   "outputs": [
    {
     "name": "stdout",
     "output_type": "stream",
     "text": [
      "[ 20  30  40  45  50  60  70  75  80  85  90 120 150 160 180 190]\n"
     ]
    }
   ],
   "source": [
    "#MSSubClass\n",
    "MSSubClass = data[:,1].astype(int)\n",
    "uniqueMSSubClass = np.unique(MSSubClass)\n",
    "#add missing values\n",
    "uniqueMSSubClass = np.append(uniqueMSSubClass, 150)\n",
    "uniqueMSSubClass.sort()\n",
    "print(uniqueMSSubClass)\n",
    "\n",
    "oneHotEncodedMSSubClass = oneHotEncode(MSSubClass, uniqueMSSubClass)"
   ]
  },
  {
   "cell_type": "code",
   "execution_count": 76,
   "metadata": {},
   "outputs": [
    {
     "name": "stdout",
     "output_type": "stream",
     "text": [
      "['A' 'C (all)' 'FV' 'I' 'RH' 'RL' 'RP' 'RM']\n"
     ]
    }
   ],
   "source": [
    "#MSZoning\n",
    "MSZoning = data[:,2]\n",
    "uniqueMSZoning = np.array([\"A\", \"C (all)\", \"FV\", \"I\", \"RH\", \"RL\", \"RP\", \"RM\"])\n",
    "oneHotEncodedMSZoning = oneHotEncode(MSZoning, uniqueMSZoning)\n",
    "\n",
    "print(uniqueMSZoning)"
   ]
  },
  {
   "cell_type": "code",
   "execution_count": 93,
   "metadata": {},
   "outputs": [
    {
     "name": "stdout",
     "output_type": "stream",
     "text": [
      "[65. 80. 68. 60. 84. 85. 75. nan 51. 50. 70. 85. nan 91. nan 51. nan 72.\n",
      " 66. 70.]\n"
     ]
    }
   ],
   "source": [
    "#LotFrontage\n",
    "LotFrontage = data[:,3]\n",
    "LotFrontage[LotFrontage == \"NA\"] = np.nan\n",
    "LotFrontage = LotFrontage.astype(float)\n",
    "print(LotFrontage[:20])"
   ]
  },
  {
   "cell_type": "code",
   "execution_count": 95,
   "metadata": {},
   "outputs": [
    {
     "name": "stdout",
     "output_type": "stream",
     "text": [
      "[ 8450.  9600. 11250.  9550. 14260. 14115. 10084. 10382.  6120.  7420.\n",
      " 11200. 11924. 12968. 10652. 10920.  6120. 11241. 10791. 13695.  7560.]\n"
     ]
    }
   ],
   "source": [
    "#LotArea\n",
    "LotArea = data[:,4].astype(float)"
   ]
  },
  {
   "cell_type": "code",
   "execution_count": 105,
   "metadata": {},
   "outputs": [
    {
     "name": "stdout",
     "output_type": "stream",
     "text": [
      "[[0 1]\n",
      " [0 1]\n",
      " [0 1]\n",
      " [0 1]\n",
      " [0 1]\n",
      " [0 1]\n",
      " [0 1]\n",
      " [0 1]\n",
      " [0 1]\n",
      " [0 1]]\n"
     ]
    }
   ],
   "source": [
    "#Street\n",
    "Street = data[:,5]\n",
    "uniqueStreet = np.array([\"Grvl\", \"Pave\"])\n",
    "oneHotEncodedStreet = oneHotEncode(Street, uniqueStreet)\n",
    "print(oneHotEncodedStreet[:10]) #1 0 is rare"
   ]
  },
  {
   "cell_type": "code",
   "execution_count": 111,
   "metadata": {},
   "outputs": [
    {
     "name": "stdout",
     "output_type": "stream",
     "text": [
      "[[0 0 1]\n",
      " [0 0 1]\n",
      " [0 0 1]\n",
      " [0 0 1]\n",
      " [0 0 1]\n",
      " [0 0 1]\n",
      " [0 0 1]\n",
      " [0 0 1]\n",
      " [0 0 1]\n",
      " [0 0 1]]\n"
     ]
    }
   ],
   "source": [
    "#Alley\n",
    "Alley = data[:,6]\n",
    "uniqueAlley = np.array([\"Grvl\", \"Pave\", \"NA\"])\n",
    "oneHotEncodedAlley = oneHotEncode(Alley, uniqueAlley)\n",
    "print(oneHotEncodedAlley[:10]) #almost all NA"
   ]
  },
  {
   "cell_type": "code",
   "execution_count": 116,
   "metadata": {},
   "outputs": [
    {
     "name": "stdout",
     "output_type": "stream",
     "text": [
      "['Reg' 'Reg' 'IR1' 'IR1' 'IR1' 'IR1' 'Reg' 'IR1' 'Reg' 'Reg' 'Reg' 'IR1'\n",
      " 'IR2' 'IR1' 'IR1' 'Reg' 'IR1' 'Reg' 'Reg' 'Reg']\n",
      "[0 0 1 1 1 1 0 1 0 0 0 1 2 1 1 0 1 0 0 0]\n"
     ]
    }
   ],
   "source": [
    "#LotShape\n",
    "LotShape = data[:,7]\n",
    "lotshape_mapping = {\"Reg\": 0, \"IR1\": 1, \"IR2\": 2, \"IR3\": 3}\n",
    "LotShape = np.array([lotshape_mapping[shape] for shape in LotShape])\n",
    "print(data[:20, 7])\n",
    "print(LotShape[:20])"
   ]
  }
 ],
 "metadata": {
  "kernelspec": {
   "display_name": "Python 3",
   "language": "python",
   "name": "python3"
  },
  "language_info": {
   "codemirror_mode": {
    "name": "ipython",
    "version": 3
   },
   "file_extension": ".py",
   "mimetype": "text/x-python",
   "name": "python",
   "nbconvert_exporter": "python",
   "pygments_lexer": "ipython3",
   "version": "3.11.4"
  }
 },
 "nbformat": 4,
 "nbformat_minor": 2
}
