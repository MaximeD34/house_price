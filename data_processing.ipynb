{
 "cells": [
  {
   "cell_type": "code",
   "execution_count": 3,
   "metadata": {},
   "outputs": [],
   "source": [
    "import numpy as np"
   ]
  },
  {
   "cell_type": "code",
   "execution_count": 4,
   "metadata": {},
   "outputs": [],
   "source": [
    "def oneHotEncode(column, uniqueValues):\n",
    "    oneHotEncodedColumn = np.zeros((len(column), len(uniqueValues)))\n",
    "    for i in range(len(column)):\n",
    "        oneHotEncodedColumn[i][list(uniqueValues).index(column[i])] = 1\n",
    "    return oneHotEncodedColumn.astype(int)"
   ]
  },
  {
   "cell_type": "code",
   "execution_count": 5,
   "metadata": {},
   "outputs": [],
   "source": [
    "#Id,MSSubClass,MSZoning,LotFrontage,LotArea,Street,Alley,LotShape,LandContour,Utilities,LotConfig,LandSlope,Neighborhood,Condition1,Condition2,BldgType,HouseStyle,OverallQual,OverallCond,YearBuilt,YearRemodAdd,RoofStyle,RoofMatl,Exterior1st,Exterior2nd,MasVnrType,MasVnrArea,ExterQual,ExterCond,Foundation,BsmtQual,BsmtCond,BsmtExposure,BsmtFinType1,BsmtFinSF1,BsmtFinType2,BsmtFinSF2,BsmtUnfSF,TotalBsmtSF,Heating,HeatingQC,CentralAir,Electrical,1stFlrSF,2ndFlrSF,LowQualFinSF,GrLivArea,BsmtFullBath,BsmtHalfBath,FullBath,HalfBath,BedroomAbvGr,KitchenAbvGr,KitchenQual,TotRmsAbvGrd,Functional,Fireplaces,FireplaceQu,GarageType,GarageYrBlt,GarageFinish,GarageCars,GarageArea,GarageQual,GarageCond,PavedDrive,WoodDeckSF,OpenPorchSF,EnclosedPorch,3SsnPorch,ScreenPorch,PoolArea,PoolQC,Fence,MiscFeature,MiscVal,MoSold,YrSold,SaleType,SaleCondition,SalePrice\n",
    "\n",
    "#==> we keep the following columns: + means we one hot encode it, = means we keep it as is\n",
    "#MSSubClass +, MSZoning =, LotFrontage =, Stree +, Alley +, LotShape +,\n",
    "#LandContour +, Utilities +, LotConfig +, LandSlope +, Neighborhood +,\n",
    "#Condition1 +, Condition2 +, BldgType +, HouseStyle +, OverallQual =,\n",
    "#OverallCond =, // YearBuilt // =, // YearRemodAdd // =, RoofStyle +, RoofMatl +, \n",
    "#Exterior1st +, Exterior2nd +, MasVnrType +, MasVnrArea =, ExterQual +,\n",
    "#ExterCond +, Foundation +, BsmtQual +, BsmtCond +, BsmtExposure +,\n",
    "#BsmtFinType1 +, BsmtFinSF1 =, BsmtFinType2 +, BsmtFinSF2 =, BsmtUnfSF =,\n",
    "#TotalBsmtSF =, Heating +, HeatingQC +, CentralAir +, Electrical +,\n",
    "#1stFlrSF =, 2ndFlrSF =, LowQualFinSF =, GrLivArea =, BsmtFullBath =,\n",
    "#BsmtHalfBath =, FullBath =, HalfBath =, Bedroom =, Kitchen =, // KitchenQual //,\n",
    "#TotRmsAbvGrd =, // Functional // +, Fireplaces =, // FireplaceQu // +, \n",
    "#GarageType +, // GarageYrBlt // =, // GarageFinish + //, GarageCars =, \n",
    "#GarageArea =, // GarageQual // +, // GarageCond // +, // PavedDrive // +,\n",
    "#WoodDeckSF =, OpenPorchSF =, EnclosedPorch =, 3SsnPorch =, ScreenPorch =,\n",
    "#PoolArea =, // PoolQC // +, // Fence // +, ?? MiscFeature ?? +, ?? MiscVal ?? =,\n",
    "#// MoSold //=, // YrSold // =, SaleType +, SaleCondition +"
   ]
  },
  {
   "cell_type": "code",
   "execution_count": 6,
   "metadata": {},
   "outputs": [
    {
     "name": "stdout",
     "output_type": "stream",
     "text": [
      "Id,MSSubClass,MSZoning,LotFrontage,LotArea,Street,Alley,LotShape,LandContour,Utilities,LotConfig,LandSlope,Neighborhood,Condition1,Condition2,BldgType,HouseStyle,OverallQual,OverallCond,YearBuilt,YearRemodAdd,RoofStyle,RoofMatl,Exterior1st,Exterior2nd,MasVnrType,MasVnrArea,ExterQual,ExterCond,Foundation,BsmtQual,BsmtCond,BsmtExposure,BsmtFinType1,BsmtFinSF1,BsmtFinType2,BsmtFinSF2,BsmtUnfSF,TotalBsmtSF,Heating,HeatingQC,CentralAir,Electrical,1stFlrSF,2ndFlrSF,LowQualFinSF,GrLivArea,BsmtFullBath,BsmtHalfBath,FullBath,HalfBath,BedroomAbvGr,KitchenAbvGr,KitchenQual,TotRmsAbvGrd,Functional,Fireplaces,FireplaceQu,GarageType,GarageYrBlt,GarageFinish,GarageCars,GarageArea,GarageQual,GarageCond,PavedDrive,WoodDeckSF,OpenPorchSF,EnclosedPorch,3SsnPorch,ScreenPorch,PoolArea,PoolQC,Fence,MiscFeature,MiscVal,MoSold,YrSold,SaleType,SaleCondition,SalePrice\n",
      "\n",
      "(1460, 81)\n"
     ]
    }
   ],
   "source": [
    "with open(\"train.csv\") as f:\n",
    "    lines = f.readlines()\n",
    "\n",
    "header = lines[0]\n",
    "lines = lines[1:]\n",
    "\n",
    "data = np.array([line.split(\",\") for line in lines])\n",
    "\n",
    "#increase print size\n",
    "np.set_printoptions(threshold=np.inf)\n",
    "\n",
    "print(header)\n",
    "print(data.shape)\n",
    "\n"
   ]
  },
  {
   "cell_type": "code",
   "execution_count": 7,
   "metadata": {},
   "outputs": [
    {
     "name": "stdout",
     "output_type": "stream",
     "text": [
      "[ 20  30  40  45  50  60  70  75  80  85  90 120 150 160 180 190]\n"
     ]
    }
   ],
   "source": [
    "#MSSubClass\n",
    "MSSubClass = data[:,1].astype(int)\n",
    "uniqueMSSubClass = np.unique(MSSubClass)\n",
    "#add missing values\n",
    "uniqueMSSubClass = np.append(uniqueMSSubClass, 150)\n",
    "uniqueMSSubClass.sort()\n",
    "print(uniqueMSSubClass)\n",
    "\n",
    "oneHotEncodedMSSubClass = oneHotEncode(MSSubClass, uniqueMSSubClass)"
   ]
  },
  {
   "cell_type": "code",
   "execution_count": 8,
   "metadata": {},
   "outputs": [
    {
     "name": "stdout",
     "output_type": "stream",
     "text": [
      "['A' 'C (all)' 'FV' 'I' 'RH' 'RL' 'RP' 'RM']\n"
     ]
    }
   ],
   "source": [
    "#MSZoning\n",
    "MSZoning = data[:,2]\n",
    "uniqueMSZoning = np.array([\"A\", \"C (all)\", \"FV\", \"I\", \"RH\", \"RL\", \"RP\", \"RM\"])\n",
    "oneHotEncodedMSZoning = oneHotEncode(MSZoning, uniqueMSZoning)\n",
    "\n",
    "print(uniqueMSZoning)"
   ]
  },
  {
   "cell_type": "code",
   "execution_count": 9,
   "metadata": {},
   "outputs": [
    {
     "name": "stdout",
     "output_type": "stream",
     "text": [
      "[65. 80. 68. 60. 84. 85. 75. nan 51. 50. 70. 85. nan 91. nan 51. nan 72.\n",
      " 66. 70.]\n"
     ]
    }
   ],
   "source": [
    "#LotFrontage\n",
    "LotFrontage = data[:,3]\n",
    "LotFrontage[LotFrontage == \"NA\"] = np.nan\n",
    "LotFrontage = LotFrontage.astype(float)\n",
    "print(LotFrontage[:20])"
   ]
  },
  {
   "cell_type": "code",
   "execution_count": 10,
   "metadata": {},
   "outputs": [],
   "source": [
    "#LotArea\n",
    "LotArea = data[:,4].astype(float)"
   ]
  },
  {
   "cell_type": "code",
   "execution_count": 11,
   "metadata": {},
   "outputs": [
    {
     "name": "stdout",
     "output_type": "stream",
     "text": [
      "[[0 1]\n",
      " [0 1]\n",
      " [0 1]\n",
      " [0 1]\n",
      " [0 1]\n",
      " [0 1]\n",
      " [0 1]\n",
      " [0 1]\n",
      " [0 1]\n",
      " [0 1]]\n"
     ]
    }
   ],
   "source": [
    "#Street\n",
    "Street = data[:,5]\n",
    "uniqueStreet = np.array([\"Grvl\", \"Pave\"])\n",
    "oneHotEncodedStreet = oneHotEncode(Street, uniqueStreet)\n",
    "print(oneHotEncodedStreet[:10]) #1 0 is rare"
   ]
  },
  {
   "cell_type": "code",
   "execution_count": 12,
   "metadata": {},
   "outputs": [
    {
     "name": "stdout",
     "output_type": "stream",
     "text": [
      "[[0 0 1]\n",
      " [0 0 1]\n",
      " [0 0 1]\n",
      " [0 0 1]\n",
      " [0 0 1]\n",
      " [0 0 1]\n",
      " [0 0 1]\n",
      " [0 0 1]\n",
      " [0 0 1]\n",
      " [0 0 1]]\n"
     ]
    }
   ],
   "source": [
    "#Alley\n",
    "Alley = data[:,6]\n",
    "uniqueAlley = np.array([\"Grvl\", \"Pave\", \"NA\"])\n",
    "oneHotEncodedAlley = oneHotEncode(Alley, uniqueAlley)\n",
    "print(oneHotEncodedAlley[:10]) #almost all NA"
   ]
  },
  {
   "cell_type": "code",
   "execution_count": 13,
   "metadata": {},
   "outputs": [
    {
     "name": "stdout",
     "output_type": "stream",
     "text": [
      "['Reg' 'Reg' 'IR1' 'IR1' 'IR1' 'IR1' 'Reg' 'IR1' 'Reg' 'Reg' 'Reg' 'IR1'\n",
      " 'IR2' 'IR1' 'IR1' 'Reg' 'IR1' 'Reg' 'Reg' 'Reg']\n",
      "[0 0 1 1 1 1 0 1 0 0 0 1 2 1 1 0 1 0 0 0]\n"
     ]
    }
   ],
   "source": [
    "#LotShape\n",
    "LotShape = data[:,7]\n",
    "lotshape_mapping = {\"Reg\": 0, \"IR1\": 1, \"IR2\": 2, \"IR3\": 3}\n",
    "LotShape = np.array([lotshape_mapping[shape] for shape in LotShape])\n",
    "print(data[:20, 7])\n",
    "print(LotShape[:20])"
   ]
  },
  {
   "cell_type": "code",
   "execution_count": 14,
   "metadata": {},
   "outputs": [
    {
     "name": "stdout",
     "output_type": "stream",
     "text": [
      "['Lvl' 'Lvl' 'Lvl' 'Lvl' 'Lvl' 'Lvl' 'Lvl' 'Lvl' 'Lvl' 'Lvl']\n",
      "[0 0 0 0 0 0 0 0 0 0]\n"
     ]
    }
   ],
   "source": [
    "#LandContour\n",
    "LandContour = data[:,8]\n",
    "landcontour_mapping = {\"Lvl\": 0, \"Bnk\": 1, \"HLS\": 2, \"Low\": 3}\n",
    "LandContour = np.array([landcontour_mapping[contour] for contour in LandContour])\n",
    "print(data[:10, 8])\n",
    "print(LandContour[:10])"
   ]
  },
  {
   "cell_type": "code",
   "execution_count": 16,
   "metadata": {},
   "outputs": [
    {
     "name": "stdout",
     "output_type": "stream",
     "text": [
      "['AllPub' 'AllPub' 'AllPub' 'AllPub' 'AllPub' 'AllPub' 'AllPub' 'AllPub'\n",
      " 'AllPub' 'AllPub']\n",
      "[0 0 0 0 0 0 0 0 0 0]\n"
     ]
    }
   ],
   "source": [
    "#Utilities\n",
    "Utilities = data[:,9]\n",
    "utilities_mapping = {\"AllPub\": 0, \"NoSewr\": 1, \"NoSeWa\": 2, \"ELO\": 3}\n",
    "Utilities = np.array([utilities_mapping[utility] for utility in Utilities])\n",
    "print(data[:10, 9])\n",
    "print(Utilities[:10])"
   ]
  },
  {
   "cell_type": "code",
   "execution_count": 17,
   "metadata": {},
   "outputs": [
    {
     "name": "stdout",
     "output_type": "stream",
     "text": [
      "[[1 0 0 0 0]\n",
      " [0 0 0 1 0]\n",
      " [1 0 0 0 0]\n",
      " [0 1 0 0 0]\n",
      " [0 0 0 1 0]\n",
      " [1 0 0 0 0]\n",
      " [1 0 0 0 0]\n",
      " [0 1 0 0 0]\n",
      " [1 0 0 0 0]\n",
      " [0 1 0 0 0]]\n"
     ]
    }
   ],
   "source": [
    "#LotConfig\n",
    "LotConfig = data[:,10]\n",
    "uniqueLotConfig = np.array([\"Inside\", \"Corner\", \"CulDSac\", \"FR2\", \"FR3\"])\n",
    "oneHotEncodedLotConfig = oneHotEncode(LotConfig, uniqueLotConfig)\n",
    "print(oneHotEncodedLotConfig[:10])\n"
   ]
  },
  {
   "cell_type": "code",
   "execution_count": 19,
   "metadata": {},
   "outputs": [
    {
     "name": "stdout",
     "output_type": "stream",
     "text": [
      "['Gtl' 'Gtl' 'Gtl' 'Gtl' 'Gtl' 'Gtl' 'Gtl' 'Gtl' 'Gtl' 'Gtl' 'Gtl' 'Gtl'\n",
      " 'Gtl' 'Gtl' 'Gtl' 'Gtl' 'Gtl' 'Gtl' 'Gtl' 'Gtl' 'Gtl' 'Gtl' 'Gtl' 'Gtl'\n",
      " 'Gtl' 'Gtl' 'Gtl' 'Gtl' 'Gtl' 'Gtl' 'Gtl' 'Gtl' 'Gtl' 'Gtl' 'Gtl' 'Gtl'\n",
      " 'Gtl' 'Gtl' 'Gtl' 'Gtl' 'Gtl' 'Gtl' 'Gtl' 'Gtl' 'Gtl' 'Gtl' 'Gtl' 'Gtl'\n",
      " 'Gtl' 'Gtl' 'Gtl' 'Gtl' 'Mod' 'Gtl' 'Mod' 'Gtl' 'Gtl' 'Gtl' 'Gtl' 'Gtl'\n",
      " 'Gtl' 'Gtl' 'Gtl' 'Gtl' 'Gtl' 'Gtl' 'Gtl' 'Gtl' 'Gtl' 'Gtl' 'Gtl' 'Gtl'\n",
      " 'Gtl' 'Gtl' 'Gtl' 'Gtl' 'Gtl' 'Gtl' 'Gtl' 'Gtl' 'Gtl' 'Gtl' 'Gtl' 'Gtl'\n",
      " 'Gtl' 'Gtl' 'Gtl' 'Gtl' 'Gtl' 'Gtl' 'Gtl' 'Gtl' 'Gtl' 'Gtl' 'Gtl' 'Gtl'\n",
      " 'Gtl' 'Gtl' 'Gtl' 'Gtl']\n",
      "[0 0 0 0 0 0 0 0 0 0 0 0 0 0 0 0 0 0 0 0 0 0 0 0 0 0 0 0 0 0 0 0 0 0 0 0 0\n",
      " 0 0 0 0 0 0 0 0 0 0 0 0 0 0 0 1 0 1 0 0 0 0 0 0 0 0 0 0 0 0 0 0 0 0 0 0 0\n",
      " 0 0 0 0 0 0 0 0 0 0 0 0 0 0 0 0 0 0 0 0 0 0 0 0 0 0]\n"
     ]
    }
   ],
   "source": [
    "#LandSlope\n",
    "LandSlope = data[:,11]\n",
    "landslope_mapping = {\"Gtl\": 0, \"Mod\": 1, \"Sev\": 2}\n",
    "LandSlope = np.array([landslope_mapping[slope] for slope in LandSlope])\n",
    "print(data[:100, 11])\n",
    "print(LandSlope[:100])"
   ]
  },
  {
   "cell_type": "code",
   "execution_count": 28,
   "metadata": {},
   "outputs": [
    {
     "name": "stdout",
     "output_type": "stream",
     "text": [
      "[[0 0 0 0 0 1 0 0 0 0 0 0 0 0 0 0 0 0 0 0 0 0 0 0 0]\n",
      " [0 0 0 0 0 0 0 0 0 0 0 0 0 0 0 0 0 0 0 0 0 0 0 0 1]\n",
      " [0 0 0 0 0 1 0 0 0 0 0 0 0 0 0 0 0 0 0 0 0 0 0 0 0]\n",
      " [0 0 0 0 0 0 1 0 0 0 0 0 0 0 0 0 0 0 0 0 0 0 0 0 0]\n",
      " [0 0 0 0 0 0 0 0 0 0 0 0 0 1 0 0 0 0 0 0 0 0 0 0 0]\n",
      " [0 0 0 0 0 0 0 0 0 0 0 1 0 0 0 0 0 0 0 0 0 0 0 0 0]\n",
      " [0 0 0 0 0 0 0 0 0 0 0 0 0 0 0 0 0 0 0 0 0 1 0 0 0]\n",
      " [0 0 0 0 0 0 0 0 0 0 0 0 0 0 0 0 1 0 0 0 0 0 0 0 0]\n",
      " [0 0 0 0 0 0 0 0 0 0 0 0 0 0 0 0 0 1 0 0 0 0 0 0 0]\n",
      " [0 0 0 1 0 0 0 0 0 0 0 0 0 0 0 0 0 0 0 0 0 0 0 0 0]]\n"
     ]
    }
   ],
   "source": [
    "#Neighborhood\n",
    "Neighborhood = data[:,12]\n",
    "uniqueNeighborhood = np.array([\"Blmngtn\", \"Blueste\", \"BrDale\", \"BrkSide\", \"ClearCr\", \n",
    "                               \"CollgCr\", \"Crawfor\", \"Edwards\", \"Gilbert\", \"IDOTRR\", \n",
    "                               \"MeadowV\", \"Mitchel\", \"NAmes\", \"NoRidge\", \"NPkVill\", \n",
    "                               \"NridgHt\", \"NWAmes\", \"OldTown\", \"SWISU\", \"Sawyer\", \n",
    "                               \"SawyerW\", \"Somerst\", \"StoneBr\", \"Timber\", \"Veenker\"])\n",
    "oneHotEncodedNeighborhood = oneHotEncode(Neighborhood, uniqueNeighborhood)\n",
    "print(oneHotEncodedNeighborhood[:10])\n"
   ]
  },
  {
   "cell_type": "code",
   "execution_count": 38,
   "metadata": {},
   "outputs": [
    {
     "name": "stdout",
     "output_type": "stream",
     "text": [
      "\n",
      " [[0 0 1 0 0 0 0 0 0]\n",
      " [0 1 1 0 0 0 0 0 0]\n",
      " [0 0 1 0 0 0 0 0 0]\n",
      " [0 0 1 0 0 0 0 0 0]\n",
      " [0 0 1 0 0 0 0 0 0]\n",
      " [0 0 1 0 0 0 0 0 0]\n",
      " [0 0 1 0 0 0 0 0 0]\n",
      " [0 0 1 0 0 1 0 0 0]\n",
      " [1 0 1 0 0 0 0 0 0]\n",
      " [1 0 0 0 0 0 0 0 0]]\n"
     ]
    }
   ],
   "source": [
    "#Condition1\n",
    "Condition1 = data[:,13]\n",
    "uniqueCondition1 = np.array([\"Artery\", \"Feedr\", \"Norm\", \"RRNn\",\n",
    "                             \"RRAn\", \"PosN\", \"PosA\", \"RRNe\", \"RRAe\"])\n",
    "oneHotEncodedCondition1 = oneHotEncode(Condition1, uniqueCondition1)\n",
    "# print(oneHotEncodedCondition1[:10])\n",
    "\n",
    "#Condition2\n",
    "Condition2 = data[:,14]\n",
    "uniqueCondition2 = np.array([\"Artery\", \"Feedr\", \"Norm\", \"RRNn\",\n",
    "                             \"RRAn\", \"PosN\", \"PosA\", \"RRNe\", \"RRAe\"])\n",
    "oneHotEncodedCondition2 = oneHotEncode(Condition2, uniqueCondition2)\n",
    "\n",
    "#union of condition1 and condition2\n",
    "oneHotEncodedCondition = np.logical_or(oneHotEncodedCondition1, oneHotEncodedCondition2).astype(int)\n",
    "\n",
    "print('\\n', oneHotEncodedCondition[:10]) #can have multiple active conditions\n"
   ]
  },
  {
   "cell_type": "code",
   "execution_count": 41,
   "metadata": {},
   "outputs": [
    {
     "name": "stdout",
     "output_type": "stream",
     "text": [
      "[[1 0 0 0 0]\n",
      " [1 0 0 0 0]\n",
      " [1 0 0 0 0]\n",
      " [1 0 0 0 0]\n",
      " [1 0 0 0 0]\n",
      " [1 0 0 0 0]\n",
      " [1 0 0 0 0]\n",
      " [1 0 0 0 0]\n",
      " [1 0 0 0 0]\n",
      " [0 1 0 0 0]]\n"
     ]
    }
   ],
   "source": [
    "#BldgType\n",
    "BldgType = data[:,15]\n",
    "uniqueBldgType = np.array([\"1Fam\", \"2fmCon\", \"Duplex\", \"TwnhsE\", \"Twnhs\"])\n",
    "oneHotEncodedBldgType = oneHotEncode(BldgType, uniqueBldgType)\n",
    "print(oneHotEncodedBldgType[:10])\n"
   ]
  },
  {
   "cell_type": "code",
   "execution_count": 42,
   "metadata": {},
   "outputs": [
    {
     "name": "stdout",
     "output_type": "stream",
     "text": [
      "[[0 0 0 1 0 0 0 0]\n",
      " [1 0 0 0 0 0 0 0]\n",
      " [0 0 0 1 0 0 0 0]\n",
      " [0 0 0 1 0 0 0 0]\n",
      " [0 0 0 1 0 0 0 0]\n",
      " [0 1 0 0 0 0 0 0]\n",
      " [1 0 0 0 0 0 0 0]\n",
      " [0 0 0 1 0 0 0 0]\n",
      " [0 1 0 0 0 0 0 0]\n",
      " [0 0 1 0 0 0 0 0]]\n"
     ]
    }
   ],
   "source": [
    "#HouseStyle\n",
    "HouseStyle = data[:,16]\n",
    "uniqueHouseStyle = np.array([\"1Story\", \"1.5Fin\", \"1.5Unf\", \"2Story\", \"2.5Fin\", \"2.5Unf\", \"SFoyer\", \"SLvl\"])\n",
    "oneHotEncodedHouseStyle = oneHotEncode(HouseStyle, uniqueHouseStyle)\n",
    "print(oneHotEncodedHouseStyle[:10])"
   ]
  },
  {
   "cell_type": "code",
   "execution_count": 44,
   "metadata": {},
   "outputs": [
    {
     "name": "stdout",
     "output_type": "stream",
     "text": [
      "[7 6 7 7 8 5 8 7 7 5]\n",
      "[5 8 5 5 5 5 5 6 5 6]\n"
     ]
    }
   ],
   "source": [
    "#OverallQual\n",
    "OverallQual = data[:,17].astype(int)\n",
    "print(OverallQual[:10])\n",
    "\n",
    "#OverallCond\n",
    "OverallCond = data[:,18].astype(int)\n",
    "print(OverallCond[:10])\n"
   ]
  },
  {
   "cell_type": "code",
   "execution_count": 46,
   "metadata": {},
   "outputs": [
    {
     "name": "stdout",
     "output_type": "stream",
     "text": [
      "[2003 1976 2001 1915 2000 1993 2004 1973 1931 1939]\n"
     ]
    }
   ],
   "source": [
    "#YearBuilt\n",
    "YearBuilt = data[:,19].astype(int)\n",
    "print(YearBuilt[:10])"
   ]
  }
 ],
 "metadata": {
  "kernelspec": {
   "display_name": "Python 3",
   "language": "python",
   "name": "python3"
  },
  "language_info": {
   "codemirror_mode": {
    "name": "ipython",
    "version": 3
   },
   "file_extension": ".py",
   "mimetype": "text/x-python",
   "name": "python",
   "nbconvert_exporter": "python",
   "pygments_lexer": "ipython3",
   "version": "3.11.4"
  }
 },
 "nbformat": 4,
 "nbformat_minor": 2
}
